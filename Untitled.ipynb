{
 "cells": [
  {
   "cell_type": "code",
   "execution_count": 3,
   "id": "f3ddff3b",
   "metadata": {},
   "outputs": [],
   "source": [
    "# Sesi 2"
   ]
  },
  {
   "cell_type": "code",
   "execution_count": 6,
   "id": "3e6f8a48",
   "metadata": {},
   "outputs": [
    {
     "name": "stdout",
     "output_type": "stream",
     "text": [
      "yes\n",
      "big yes\n"
     ]
    }
   ],
   "source": [
    "if 1 < 2:\n",
    "    print(\"yes\")\n",
    "    print('big yes')"
   ]
  },
  {
   "cell_type": "code",
   "execution_count": 12,
   "id": "2ce325ea",
   "metadata": {},
   "outputs": [
    {
     "name": "stdout",
     "output_type": "stream",
     "text": [
      "yes\n",
      "5\n"
     ]
    }
   ],
   "source": [
    "x=0\n",
    "y=5\n",
    "\n",
    "if x<y:\n",
    "    result = y+x\n",
    "    print('yes')\n",
    "    print(result)"
   ]
  },
  {
   "cell_type": "code",
   "execution_count": 9,
   "id": "79d31c02",
   "metadata": {},
   "outputs": [
    {
     "name": "stdout",
     "output_type": "stream",
     "text": [
      "iskandar\n"
     ]
    }
   ],
   "source": [
    "if \"kan\" in \"iskandar\":\n",
    "    print('iskandar')"
   ]
  },
  {
   "cell_type": "code",
   "execution_count": 13,
   "id": "e837e6c5",
   "metadata": {},
   "outputs": [
    {
     "name": "stdout",
     "output_type": "stream",
     "text": [
      "2\n",
      "3\n",
      "4\n",
      "5\n",
      "6\n"
     ]
    }
   ],
   "source": [
    "i = 1\n",
    "\n",
    "while i<6:\n",
    "    i +=1\n",
    "    print(i)"
   ]
  },
  {
   "cell_type": "code",
   "execution_count": 14,
   "id": "37f56dfe",
   "metadata": {},
   "outputs": [
    {
     "name": "stdout",
     "output_type": "stream",
     "text": [
      "1\n",
      "2\n",
      "3\n",
      "4\n",
      "5\n"
     ]
    }
   ],
   "source": [
    "i = 1\n",
    "\n",
    "while i<6:\n",
    "    print(i)\n",
    "    i +=1\n",
    "    "
   ]
  },
  {
   "cell_type": "code",
   "execution_count": 16,
   "id": "6984f9d1",
   "metadata": {},
   "outputs": [
    {
     "name": "stdout",
     "output_type": "stream",
     "text": [
      "4\n",
      "3\n",
      "end of the loop\n"
     ]
    }
   ],
   "source": [
    "n=5\n",
    "while n>0:\n",
    "    n -=1\n",
    "    if n==2:\n",
    "        break\n",
    "    print(n)\n",
    "print('end of the loop')"
   ]
  },
  {
   "cell_type": "code",
   "execution_count": 18,
   "id": "abe6daf7",
   "metadata": {},
   "outputs": [
    {
     "name": "stdout",
     "output_type": "stream",
     "text": [
      "19\n",
      "18\n",
      "17\n",
      "16\n",
      "15\n",
      "14\n",
      "13\n",
      "12\n",
      "11\n",
      "10\n",
      "9\n",
      "8\n",
      "7\n",
      "6\n",
      "5\n",
      "4\n",
      "3\n",
      "1\n",
      "0\n",
      "end of the loop\n"
     ]
    }
   ],
   "source": [
    "n=20\n",
    "while n>0:\n",
    "    n -=1\n",
    "    if n==2:\n",
    "        continue\n",
    "    print(n)\n",
    "print('end of the loop')"
   ]
  },
  {
   "cell_type": "code",
   "execution_count": null,
   "id": "c0c3cbb2",
   "metadata": {},
   "outputs": [],
   "source": []
  }
 ],
 "metadata": {
  "kernelspec": {
   "display_name": "Python 3",
   "language": "python",
   "name": "python3"
  },
  "language_info": {
   "codemirror_mode": {
    "name": "ipython",
    "version": 3
   },
   "file_extension": ".py",
   "mimetype": "text/x-python",
   "name": "python",
   "nbconvert_exporter": "python",
   "pygments_lexer": "ipython3",
   "version": "3.8.8"
  }
 },
 "nbformat": 4,
 "nbformat_minor": 5
}
