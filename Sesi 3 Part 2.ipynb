{
 "cells": [
  {
   "cell_type": "code",
   "execution_count": 1,
   "id": "afd04266",
   "metadata": {},
   "outputs": [
    {
     "name": "stdout",
     "output_type": "stream",
     "text": [
      "3\n"
     ]
    }
   ],
   "source": [
    "a=1+2\n",
    "print(a)"
   ]
  },
  {
   "cell_type": "markdown",
   "id": "40fe8a84",
   "metadata": {},
   "source": [
    "# Function Argument\n",
    "\n",
    "required argument\n",
    "keyword argument\n",
    "default argument\n",
    "variable-length argument\n"
   ]
  },
  {
   "cell_type": "code",
   "execution_count": 7,
   "id": "abfd16ae",
   "metadata": {},
   "outputs": [],
   "source": [
    "# Keyword Argument\n",
    "\n",
    "def printme (str):\n",
    "    print(str)\n",
    "    return\n",
    "\n"
   ]
  },
  {
   "cell_type": "code",
   "execution_count": 10,
   "id": "80eb09cd",
   "metadata": {},
   "outputs": [
    {
     "name": "stdout",
     "output_type": "stream",
     "text": [
      "Hactiv8\n"
     ]
    }
   ],
   "source": [
    "printme(str = \"Hactiv8\")"
   ]
  },
  {
   "cell_type": "code",
   "execution_count": 11,
   "id": "a2ffa5d5",
   "metadata": {},
   "outputs": [
    {
     "name": "stdout",
     "output_type": "stream",
     "text": [
      "Name:  Nday\n",
      "Age:  4\n"
     ]
    }
   ],
   "source": [
    "def printinfo (name, age):\n",
    "    print(\"Name: \", name)\n",
    "    print(\"Age: \", age)\n",
    "    return;\n",
    "\n",
    "printinfo(age=4, name=\"Nday\")"
   ]
  },
  {
   "cell_type": "markdown",
   "id": "44bd88cb",
   "metadata": {},
   "source": [
    "# Default arguments"
   ]
  },
  {
   "cell_type": "code",
   "execution_count": 13,
   "id": "ea283bfa",
   "metadata": {},
   "outputs": [],
   "source": [
    "def printinfo (name, age = 26):\n",
    "    print(\"Name: \", name)\n",
    "    print(\"Age: \", age)\n",
    "    return;"
   ]
  },
  {
   "cell_type": "code",
   "execution_count": 14,
   "id": "b1730a7b",
   "metadata": {},
   "outputs": [
    {
     "name": "stdout",
     "output_type": "stream",
     "text": [
      "Name:  Saya\n",
      "Age:  26\n"
     ]
    }
   ],
   "source": [
    "printinfo(name = \"Saya\")"
   ]
  },
  {
   "cell_type": "markdown",
   "id": "01452891",
   "metadata": {},
   "source": [
    "# anonymous Functions"
   ]
  },
  {
   "cell_type": "code",
   "execution_count": 18,
   "id": "cac67ff6",
   "metadata": {},
   "outputs": [],
   "source": [
    "sum = lambda arg1, arg2: arg1 + arg2\n",
    "\n",
    "def sum(arg1, arg2):\n",
    "    return arg1 + arg2"
   ]
  },
  {
   "cell_type": "code",
   "execution_count": 19,
   "id": "86cf3536",
   "metadata": {},
   "outputs": [
    {
     "name": "stdout",
     "output_type": "stream",
     "text": [
      "value of total :  30\n",
      "value of total :  40\n"
     ]
    }
   ],
   "source": [
    "print (\"value of total : \", sum(10,20))\n",
    "print (\"value of total : \", sum(20,20))"
   ]
  },
  {
   "cell_type": "code",
   "execution_count": 26,
   "id": "22742f40",
   "metadata": {},
   "outputs": [],
   "source": [
    "def sum(arg1, arg2):\n",
    "    \n",
    "    total = arg1 + arg2\n",
    "    total2 = total + arg1\n",
    "    print(\"inside the function : \", total)\n",
    "    return total2"
   ]
  },
  {
   "cell_type": "code",
   "execution_count": 27,
   "id": "8bfb292a",
   "metadata": {},
   "outputs": [
    {
     "name": "stdout",
     "output_type": "stream",
     "text": [
      "inside the function :  30\n"
     ]
    },
    {
     "data": {
      "text/plain": [
       "40"
      ]
     },
     "execution_count": 27,
     "metadata": {},
     "output_type": "execute_result"
    }
   ],
   "source": [
    "sum(10,20)"
   ]
  },
  {
   "cell_type": "markdown",
   "id": "7ce6595d",
   "metadata": {},
   "source": [
    "# Local vs Global"
   ]
  },
  {
   "cell_type": "code",
   "execution_count": 28,
   "id": "7a624f19",
   "metadata": {},
   "outputs": [],
   "source": [
    "#global\n",
    "\n",
    "jumlahkucing = 20\n",
    "\n",
    "def jumlahhewan():\n",
    "    jumlahanjing = 30\n",
    "    return jumlahkucing + jumlahanjing\n",
    "\n",
    "def jumlahkelinci():\n",
    "    return jumlahkucing + jumlahkucing"
   ]
  },
  {
   "cell_type": "code",
   "execution_count": 29,
   "id": "758aee1b",
   "metadata": {},
   "outputs": [
    {
     "data": {
      "text/plain": [
       "50"
      ]
     },
     "execution_count": 29,
     "metadata": {},
     "output_type": "execute_result"
    }
   ],
   "source": [
    "jumlahhewan()"
   ]
  },
  {
   "cell_type": "code",
   "execution_count": 30,
   "id": "3811c68f",
   "metadata": {},
   "outputs": [
    {
     "data": {
      "text/plain": [
       "40"
      ]
     },
     "execution_count": 30,
     "metadata": {},
     "output_type": "execute_result"
    }
   ],
   "source": [
    "jumlahkelinci()"
   ]
  },
  {
   "cell_type": "markdown",
   "id": "082ccae0",
   "metadata": {},
   "source": [
    "# Function Module dan Package"
   ]
  },
  {
   "cell_type": "markdown",
   "id": "0455ac93",
   "metadata": {},
   "source": [
    "# membuat modul\n",
    "1 module dgn bahasa python\n",
    "2 module ditulis dalam C dan diload secara dinamis pada saat runtime\n",
    "3 built-in module secara intrinsik terdapat dalam interpreter spt modul itertools"
   ]
  },
  {
   "cell_type": "markdown",
   "id": "0ba914dc",
   "metadata": {},
   "source": [
    "## Python Module"
   ]
  },
  {
   "cell_type": "code",
   "execution_count": 33,
   "id": "65ef28a6",
   "metadata": {},
   "outputs": [],
   "source": [
    "import mod"
   ]
  },
  {
   "cell_type": "code",
   "execution_count": 34,
   "id": "3f4dee29",
   "metadata": {},
   "outputs": [
    {
     "name": "stdout",
     "output_type": "stream",
     "text": [
      "H8 python for data science\n"
     ]
    }
   ],
   "source": [
    "print(mod.s)"
   ]
  },
  {
   "cell_type": "code",
   "execution_count": 35,
   "id": "478ab6bd",
   "metadata": {},
   "outputs": [
    {
     "data": {
      "text/plain": [
       "[100, 200, 300]"
      ]
     },
     "execution_count": 35,
     "metadata": {},
     "output_type": "execute_result"
    }
   ],
   "source": [
    "mod.a"
   ]
  },
  {
   "cell_type": "markdown",
   "id": "86e313c0",
   "metadata": {},
   "source": [
    "#mod.foo([\"quux\", \"corge\", \"grault\"])\n",
    "\n",
    "#dicoba2 lagi"
   ]
  },
  {
   "cell_type": "raw",
   "id": "3ba1ab79",
   "metadata": {},
   "source": []
  },
  {
   "cell_type": "markdown",
   "id": "02c440d0",
   "metadata": {},
   "source": [
    "# module search path"
   ]
  },
  {
   "cell_type": "code",
   "execution_count": 46,
   "id": "8995569e",
   "metadata": {},
   "outputs": [
    {
     "data": {
      "text/plain": [
       "[100, 200, 300]"
      ]
     },
     "execution_count": 46,
     "metadata": {},
     "output_type": "execute_result"
    }
   ],
   "source": [
    "mod.a"
   ]
  },
  {
   "cell_type": "code",
   "execution_count": 48,
   "id": "cc0a7f14",
   "metadata": {},
   "outputs": [],
   "source": [
    "import mod as my_module"
   ]
  },
  {
   "cell_type": "code",
   "execution_count": 49,
   "id": "32116795",
   "metadata": {},
   "outputs": [
    {
     "data": {
      "text/plain": [
       "[100, 200, 300]"
      ]
     },
     "execution_count": 49,
     "metadata": {},
     "output_type": "execute_result"
    }
   ],
   "source": [
    "my_module.a"
   ]
  },
  {
   "cell_type": "code",
   "execution_count": 47,
   "id": "7f2f6a96",
   "metadata": {},
   "outputs": [
    {
     "data": {
      "text/plain": [
       "['In',\n",
       " 'Out',\n",
       " '_',\n",
       " '_23',\n",
       " '_25',\n",
       " '_27',\n",
       " '_29',\n",
       " '_30',\n",
       " '_35',\n",
       " '_36',\n",
       " '_46',\n",
       " '__',\n",
       " '___',\n",
       " '__builtin__',\n",
       " '__builtins__',\n",
       " '__doc__',\n",
       " '__loader__',\n",
       " '__name__',\n",
       " '__package__',\n",
       " '__spec__',\n",
       " '_dh',\n",
       " '_i',\n",
       " '_i1',\n",
       " '_i10',\n",
       " '_i11',\n",
       " '_i12',\n",
       " '_i13',\n",
       " '_i14',\n",
       " '_i15',\n",
       " '_i16',\n",
       " '_i17',\n",
       " '_i18',\n",
       " '_i19',\n",
       " '_i2',\n",
       " '_i20',\n",
       " '_i21',\n",
       " '_i22',\n",
       " '_i23',\n",
       " '_i24',\n",
       " '_i25',\n",
       " '_i26',\n",
       " '_i27',\n",
       " '_i28',\n",
       " '_i29',\n",
       " '_i3',\n",
       " '_i30',\n",
       " '_i31',\n",
       " '_i32',\n",
       " '_i33',\n",
       " '_i34',\n",
       " '_i35',\n",
       " '_i36',\n",
       " '_i37',\n",
       " '_i38',\n",
       " '_i39',\n",
       " '_i4',\n",
       " '_i40',\n",
       " '_i41',\n",
       " '_i42',\n",
       " '_i43',\n",
       " '_i44',\n",
       " '_i45',\n",
       " '_i46',\n",
       " '_i47',\n",
       " '_i5',\n",
       " '_i6',\n",
       " '_i7',\n",
       " '_i8',\n",
       " '_i9',\n",
       " '_ih',\n",
       " '_ii',\n",
       " '_iii',\n",
       " '_oh',\n",
       " 'a',\n",
       " 'changeme',\n",
       " 'exit',\n",
       " 'foo',\n",
       " 'get_ipython',\n",
       " 'jumlahhewan',\n",
       " 'jumlahkelinci',\n",
       " 'jumlahkucing',\n",
       " 'mod',\n",
       " 'my_module',\n",
       " 'printinfo',\n",
       " 'printme',\n",
       " 'quit',\n",
       " 's',\n",
       " 'sum']"
      ]
     },
     "execution_count": 47,
     "metadata": {},
     "output_type": "execute_result"
    }
   ],
   "source": [
    "#dir()\n",
    "\n",
    "dir()"
   ]
  },
  {
   "cell_type": "code",
   "execution_count": 50,
   "id": "64cf91f3",
   "metadata": {},
   "outputs": [
    {
     "data": {
      "text/plain": [
       "['__builtins__',\n",
       " '__cached__',\n",
       " '__doc__',\n",
       " '__file__',\n",
       " '__loader__',\n",
       " '__name__',\n",
       " '__package__',\n",
       " '__spec__',\n",
       " 'a',\n",
       " 'foo',\n",
       " 's']"
      ]
     },
     "execution_count": 50,
     "metadata": {},
     "output_type": "execute_result"
    }
   ],
   "source": [
    "dir(mod)"
   ]
  },
  {
   "cell_type": "code",
   "execution_count": 51,
   "id": "39e2ef0f",
   "metadata": {},
   "outputs": [
    {
     "data": {
      "text/plain": [
       "[100, 200, 300]"
      ]
     },
     "execution_count": 51,
     "metadata": {},
     "output_type": "execute_result"
    }
   ],
   "source": [
    "mod.a"
   ]
  },
  {
   "cell_type": "code",
   "execution_count": 52,
   "id": "df90503d",
   "metadata": {},
   "outputs": [
    {
     "data": {
      "text/plain": [
       "mod.foo"
      ]
     },
     "execution_count": 52,
     "metadata": {},
     "output_type": "execute_result"
    }
   ],
   "source": [
    "mod.foo"
   ]
  },
  {
   "cell_type": "code",
   "execution_count": null,
   "id": "72b8958c",
   "metadata": {},
   "outputs": [],
   "source": []
  }
 ],
 "metadata": {
  "kernelspec": {
   "display_name": "Python 3",
   "language": "python",
   "name": "python3"
  },
  "language_info": {
   "codemirror_mode": {
    "name": "ipython",
    "version": 3
   },
   "file_extension": ".py",
   "mimetype": "text/x-python",
   "name": "python",
   "nbconvert_exporter": "python",
   "pygments_lexer": "ipython3",
   "version": "3.8.8"
  }
 },
 "nbformat": 4,
 "nbformat_minor": 5
}
