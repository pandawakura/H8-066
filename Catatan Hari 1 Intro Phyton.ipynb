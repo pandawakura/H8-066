{
 "cells": [
  {
   "cell_type": "code",
   "execution_count": 1,
   "id": "6cf825f2",
   "metadata": {},
   "outputs": [
    {
     "name": "stdout",
     "output_type": "stream",
     "text": [
      "Hello semua!\n"
     ]
    }
   ],
   "source": [
    "print(\"Hello semua!\")"
   ]
  },
  {
   "cell_type": "markdown",
   "id": "ee2e1913",
   "metadata": {},
   "source": [
    "cell - markdown untuk catatan note"
   ]
  },
  {
   "cell_type": "code",
   "execution_count": 2,
   "id": "be2b746d",
   "metadata": {},
   "outputs": [
    {
     "ename": "SyntaxError",
     "evalue": "invalid syntax (<ipython-input-2-ea3f1c774def>, line 1)",
     "output_type": "error",
     "traceback": [
      "\u001b[0;36m  File \u001b[0;32m\"<ipython-input-2-ea3f1c774def>\"\u001b[0;36m, line \u001b[0;32m1\u001b[0m\n\u001b[0;31m    shift enter untuk jalanin\u001b[0m\n\u001b[0m          ^\u001b[0m\n\u001b[0;31mSyntaxError\u001b[0m\u001b[0;31m:\u001b[0m invalid syntax\n"
     ]
    }
   ],
   "source": [
    "shift enter untuk jalanin"
   ]
  },
  {
   "cell_type": "markdown",
   "id": "9dc36f8d",
   "metadata": {},
   "source": [
    "cell yang sedang diedit warna hijau."
   ]
  },
  {
   "cell_type": "markdown",
   "id": "17213c9f",
   "metadata": {},
   "source": [
    "1. sedang edit (warna hijau) tekan escape dulu\n",
    "2. untuk jadi markdown tekan M\n",
    "3. untuk jadi code cell tekan Y\n",
    "\n",
    "https://www.markdownguide.org/basic-syntax"
   ]
  },
  {
   "cell_type": "markdown",
   "id": "068a653b",
   "metadata": {},
   "source": [
    "# Title 1"
   ]
  },
  {
   "cell_type": "markdown",
   "id": "824b116d",
   "metadata": {},
   "source": [
    "##subtitle"
   ]
  },
  {
   "cell_type": "code",
   "execution_count": 6,
   "id": "abbe7025",
   "metadata": {},
   "outputs": [
    {
     "ename": "NameError",
     "evalue": "name 'n' is not defined",
     "output_type": "error",
     "traceback": [
      "\u001b[0;31m---------------------------------------------------------------------------\u001b[0m",
      "\u001b[0;31mNameError\u001b[0m                                 Traceback (most recent call last)",
      "\u001b[0;32m<ipython-input-6-349653be3a92>\u001b[0m in \u001b[0;36m<module>\u001b[0;34m\u001b[0m\n\u001b[0;32m----> 1\u001b[0;31m \u001b[0mprint\u001b[0m\u001b[0;34m(\u001b[0m\u001b[0mn\u001b[0m\u001b[0;34m)\u001b[0m\u001b[0;34m\u001b[0m\u001b[0;34m\u001b[0m\u001b[0m\n\u001b[0m",
      "\u001b[0;31mNameError\u001b[0m: name 'n' is not defined"
     ]
    }
   ],
   "source": [
    "print(n)"
   ]
  },
  {
   "cell_type": "markdown",
   "id": "ab24b2ed",
   "metadata": {},
   "source": [
    "Type data di phyton\n",
    "1. interger\n",
    "2. float\n",
    "3. string\n",
    "4. boolean"
   ]
  },
  {
   "cell_type": "code",
   "execution_count": 7,
   "id": "56cea982",
   "metadata": {},
   "outputs": [],
   "source": [
    "# Variable Assignment"
   ]
  },
  {
   "cell_type": "code",
   "execution_count": 8,
   "id": "13dac758",
   "metadata": {},
   "outputs": [],
   "source": [
    "n = 300"
   ]
  },
  {
   "cell_type": "code",
   "execution_count": 9,
   "id": "a7f40719",
   "metadata": {},
   "outputs": [
    {
     "name": "stdout",
     "output_type": "stream",
     "text": [
      "300\n"
     ]
    }
   ],
   "source": [
    "print (n)"
   ]
  },
  {
   "cell_type": "code",
   "execution_count": 10,
   "id": "8e99bfcd",
   "metadata": {},
   "outputs": [
    {
     "data": {
      "text/plain": [
       "300"
      ]
     },
     "execution_count": 10,
     "metadata": {},
     "output_type": "execute_result"
    }
   ],
   "source": [
    "n"
   ]
  },
  {
   "cell_type": "markdown",
   "id": "b21ff1e2",
   "metadata": {},
   "source": [
    "Overwrite variabel dengan menulis baru seperti di In [8]"
   ]
  },
  {
   "cell_type": "code",
   "execution_count": 11,
   "id": "f114a80e",
   "metadata": {},
   "outputs": [],
   "source": [
    "age = 27"
   ]
  },
  {
   "cell_type": "code",
   "execution_count": 12,
   "id": "7a35a46b",
   "metadata": {},
   "outputs": [
    {
     "data": {
      "text/plain": [
       "8100"
      ]
     },
     "execution_count": 12,
     "metadata": {},
     "output_type": "execute_result"
    }
   ],
   "source": [
    "n*age"
   ]
  },
  {
   "cell_type": "code",
   "execution_count": 13,
   "id": "a3fd2ffb",
   "metadata": {},
   "outputs": [],
   "source": [
    "n=500"
   ]
  },
  {
   "cell_type": "code",
   "execution_count": 14,
   "id": "b45a22a3",
   "metadata": {},
   "outputs": [
    {
     "data": {
      "text/plain": [
       "13500"
      ]
     },
     "execution_count": 14,
     "metadata": {},
     "output_type": "execute_result"
    }
   ],
   "source": [
    "n*age"
   ]
  },
  {
   "cell_type": "code",
   "execution_count": 15,
   "id": "eb7906b6",
   "metadata": {},
   "outputs": [],
   "source": [
    "a = b = c = 300"
   ]
  },
  {
   "cell_type": "code",
   "execution_count": 16,
   "id": "bf744477",
   "metadata": {},
   "outputs": [
    {
     "data": {
      "text/plain": [
       "27000000"
      ]
     },
     "execution_count": 16,
     "metadata": {},
     "output_type": "execute_result"
    }
   ],
   "source": [
    "a*b*c"
   ]
  },
  {
   "cell_type": "code",
   "execution_count": 18,
   "id": "d3939e42",
   "metadata": {},
   "outputs": [],
   "source": [
    "# Variable Type in PY"
   ]
  },
  {
   "cell_type": "code",
   "execution_count": 20,
   "id": "cede81a9",
   "metadata": {},
   "outputs": [
    {
     "name": "stdout",
     "output_type": "stream",
     "text": [
      "23.4\n",
      "Now i am a string\n"
     ]
    }
   ],
   "source": [
    "var = 23.4\n",
    "print (var)\n",
    "\n",
    "var = \"Now i am a string\"\n",
    "print (var)"
   ]
  },
  {
   "cell_type": "code",
   "execution_count": 21,
   "id": "ac900843",
   "metadata": {},
   "outputs": [
    {
     "name": "stdout",
     "output_type": "stream",
     "text": [
      "iskandar 17 True\n"
     ]
    }
   ],
   "source": [
    "name = \"iskandar\"\n",
    "age = \"17\"\n",
    "has_laptops = True\n",
    "print (name, age, has_laptops)"
   ]
  },
  {
   "cell_type": "markdown",
   "id": "45f4f50e",
   "metadata": {},
   "source": [
    "Variable tidak boleh dimulai dengan angka"
   ]
  },
  {
   "cell_type": "code",
   "execution_count": 22,
   "id": "ef591345",
   "metadata": {},
   "outputs": [
    {
     "data": {
      "text/plain": [
       "bool"
      ]
     },
     "execution_count": 22,
     "metadata": {},
     "output_type": "execute_result"
    }
   ],
   "source": [
    "type(has_laptops)"
   ]
  },
  {
   "cell_type": "code",
   "execution_count": 26,
   "id": "c9952dd8",
   "metadata": {},
   "outputs": [
    {
     "data": {
      "text/plain": [
       "'saya dan kamu'"
      ]
     },
     "execution_count": 26,
     "metadata": {},
     "output_type": "execute_result"
    }
   ],
   "source": [
    "a = \"saya\"\n",
    "b = \"dan\"\n",
    "c = \"kamu\"\n",
    "\n",
    "a+\" \"+b+\" \"+ c"
   ]
  },
  {
   "cell_type": "markdown",
   "id": "a7e203dc",
   "metadata": {},
   "source": [
    "= untuk assigning variable\n",
    "== untuk sama dengan in comparison"
   ]
  },
  {
   "cell_type": "code",
   "execution_count": 27,
   "id": "4220edf1",
   "metadata": {},
   "outputs": [
    {
     "name": "stdout",
     "output_type": "stream",
     "text": [
      "sayadan\n"
     ]
    }
   ],
   "source": [
    "print(a+b)"
   ]
  },
  {
   "cell_type": "code",
   "execution_count": 28,
   "id": "b958400a",
   "metadata": {},
   "outputs": [
    {
     "name": "stdout",
     "output_type": "stream",
     "text": [
      "sayadan\n"
     ]
    }
   ],
   "source": [
    "print (a + b)"
   ]
  },
  {
   "cell_type": "code",
   "execution_count": 29,
   "id": "478c9919",
   "metadata": {},
   "outputs": [
    {
     "name": "stdout",
     "output_type": "stream",
     "text": [
      "saya dan\n"
     ]
    }
   ],
   "source": [
    "print (a+\" \"+b)"
   ]
  },
  {
   "cell_type": "code",
   "execution_count": 31,
   "id": "24413d8d",
   "metadata": {},
   "outputs": [
    {
     "data": {
      "text/plain": [
       "'sayasayasayasayasayasayasayasayasayasaya'"
      ]
     },
     "execution_count": 31,
     "metadata": {},
     "output_type": "execute_result"
    }
   ],
   "source": [
    "a*10"
   ]
  },
  {
   "cell_type": "code",
   "execution_count": 32,
   "id": "dc9d3593",
   "metadata": {},
   "outputs": [
    {
     "data": {
      "text/plain": [
       "'sayasaya'"
      ]
     },
     "execution_count": 32,
     "metadata": {},
     "output_type": "execute_result"
    }
   ],
   "source": [
    "a*2"
   ]
  },
  {
   "cell_type": "code",
   "execution_count": 34,
   "id": "68b5875f",
   "metadata": {},
   "outputs": [
    {
     "name": "stdout",
     "output_type": "stream",
     "text": [
      "True\n"
     ]
    }
   ],
   "source": [
    "print (a in \"sayang dalam kamar\")"
   ]
  },
  {
   "cell_type": "markdown",
   "id": "81dc9871",
   "metadata": {},
   "source": [
    "python list atau matrix ditandi dengan []"
   ]
  },
  {
   "cell_type": "code",
   "execution_count": 43,
   "id": "d27bbbf5",
   "metadata": {},
   "outputs": [
    {
     "name": "stdout",
     "output_type": "stream",
     "text": [
      "[1, 2, 3, 4, 5, 1, 2, 3, 4, 5, 1, 2, 3, 4, 5]\n",
      "<class 'list'>\n"
     ]
    },
    {
     "data": {
      "text/plain": [
       "int"
      ]
     },
     "execution_count": 43,
     "metadata": {},
     "output_type": "execute_result"
    }
   ],
   "source": [
    "d=[1,2,3,4,5]\n",
    "e=3\n",
    "\n",
    "print(e*d)\n",
    "e*d\n",
    "print(type(d))\n",
    "type(d[0])"
   ]
  },
  {
   "cell_type": "markdown",
   "id": "d14e4562",
   "metadata": {},
   "source": [
    "slicing pake kurung siku"
   ]
  },
  {
   "cell_type": "code",
   "execution_count": 44,
   "id": "16e0e518",
   "metadata": {},
   "outputs": [],
   "source": [
    "del d[0]"
   ]
  },
  {
   "cell_type": "code",
   "execution_count": 45,
   "id": "01601f55",
   "metadata": {},
   "outputs": [
    {
     "name": "stdout",
     "output_type": "stream",
     "text": [
      "[2, 3, 4, 5]\n"
     ]
    }
   ],
   "source": [
    "print(d)"
   ]
  },
  {
   "cell_type": "code",
   "execution_count": 48,
   "id": "80588421",
   "metadata": {},
   "outputs": [
    {
     "name": "stdout",
     "output_type": "stream",
     "text": [
      "2\n"
     ]
    }
   ],
   "source": [
    "print(d[-4])"
   ]
  },
  {
   "cell_type": "code",
   "execution_count": 49,
   "id": "a5160c4e",
   "metadata": {},
   "outputs": [
    {
     "data": {
      "text/plain": [
       "3"
      ]
     },
     "execution_count": 49,
     "metadata": {},
     "output_type": "execute_result"
    }
   ],
   "source": [
    "d[-3]"
   ]
  },
  {
   "cell_type": "code",
   "execution_count": 58,
   "id": "74f1c79e",
   "metadata": {},
   "outputs": [
    {
     "name": "stdout",
     "output_type": "stream",
     "text": [
      "['saya', 'akan', 'pergi', 'ke', 'sekolah', ['karena', 'tidak', 'hujan']]\n",
      "['karena', 'tidak', 'hujan', 'saya', 'akan', 'pergi', 'ke', 'sekolah', ['karena', 'tidak', 'hujan']]\n"
     ]
    }
   ],
   "source": [
    "a = ['saya', 'akan', 'pergi', 'ke', 'sekolah', ['karena', 'tidak', 'hujan']]\n",
    "\n",
    "print (a)\n",
    "\n",
    "a[0:0] = ['karena', 'tidak', 'hujan']\n",
    "print (a)"
   ]
  },
  {
   "cell_type": "code",
   "execution_count": null,
   "id": "77ec197a",
   "metadata": {},
   "outputs": [],
   "source": []
  }
 ],
 "metadata": {
  "kernelspec": {
   "display_name": "Python 3",
   "language": "python",
   "name": "python3"
  },
  "language_info": {
   "codemirror_mode": {
    "name": "ipython",
    "version": 3
   },
   "file_extension": ".py",
   "mimetype": "text/x-python",
   "name": "python",
   "nbconvert_exporter": "python",
   "pygments_lexer": "ipython3",
   "version": "3.8.8"
  }
 },
 "nbformat": 4,
 "nbformat_minor": 5
}
