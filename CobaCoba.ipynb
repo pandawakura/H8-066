{
 "cells": [
  {
   "cell_type": "markdown",
   "id": "66d225fa",
   "metadata": {},
   "source": [
    "# Latihan Syntax"
   ]
  },
  {
   "cell_type": "code",
   "execution_count": 3,
   "id": "4e0f059d",
   "metadata": {},
   "outputs": [
    {
     "name": "stdout",
     "output_type": "stream",
     "text": [
      "Hello World!\n"
     ]
    }
   ],
   "source": [
    "print(\"Hello World!\")"
   ]
  },
  {
   "cell_type": "code",
   "execution_count": 4,
   "id": "62b0724c",
   "metadata": {},
   "outputs": [
    {
     "name": "stdout",
     "output_type": "stream",
     "text": [
      "Hello World!\n"
     ]
    }
   ],
   "source": [
    "msg = \"Hello World!\"\n",
    "print(msg)"
   ]
  },
  {
   "cell_type": "code",
   "execution_count": 5,
   "id": "eaadbb63",
   "metadata": {},
   "outputs": [
    {
     "name": "stdout",
     "output_type": "stream",
     "text": [
      "Ahmad Iskandar\n"
     ]
    }
   ],
   "source": [
    "first_name = \"Ahmad\"\n",
    "last_name = \"Iskandar\"\n",
    "full_name = first_name + \" \" + last_name\n",
    "print(full_name)"
   ]
  },
  {
   "cell_type": "code",
   "execution_count": 8,
   "id": "e74374a7",
   "metadata": {},
   "outputs": [
    {
     "name": "stdout",
     "output_type": "stream",
     "text": [
      "trek\n",
      "giant\n",
      "redline\n"
     ]
    }
   ],
   "source": [
    "bikes = ['trek', 'redline', 'giant']\n",
    "first_bike = bikes[0]\n",
    "last_bike = bikes[-1]\n",
    "second_bike = bikes[1]\n",
    "print (first_bike)\n",
    "print (last_bike)\n",
    "print (second_bike)"
   ]
  },
  {
   "cell_type": "code",
   "execution_count": 12,
   "id": "4597b544",
   "metadata": {},
   "outputs": [
    {
     "name": "stdout",
     "output_type": "stream",
     "text": [
      "['trek', 'redline']\n",
      "['trek', 'redline', 'giant']\n"
     ]
    }
   ],
   "source": [
    "bikes = []\n",
    "bikes.append('trek')\n",
    "bikes.append('redline')\n",
    "\n",
    "print(bikes)\n",
    "\n",
    "bikes.append('giant')\n",
    "print(bikes)"
   ]
  },
  {
   "cell_type": "code",
   "execution_count": 13,
   "id": "c0b49226",
   "metadata": {},
   "outputs": [
    {
     "name": "stdout",
     "output_type": "stream",
     "text": [
      "[1]\n",
      "[1, 4]\n",
      "[1, 4, 9]\n",
      "[1, 4, 9, 16]\n",
      "[1, 4, 9, 16, 25]\n",
      "[1, 4, 9, 16, 25, 36]\n",
      "[1, 4, 9, 16, 25, 36, 49]\n",
      "[1, 4, 9, 16, 25, 36, 49, 64]\n",
      "[1, 4, 9, 16, 25, 36, 49, 64, 81]\n",
      "[1, 4, 9, 16, 25, 36, 49, 64, 81, 100]\n"
     ]
    }
   ],
   "source": [
    "squares = []\n",
    "for x in range(1,11):\n",
    "    squares.append(x**2)\n",
    "    print(squares)"
   ]
  },
  {
   "cell_type": "code",
   "execution_count": 14,
   "id": "18d476e0",
   "metadata": {},
   "outputs": [
    {
     "name": "stdout",
     "output_type": "stream",
     "text": [
      "[1, 4, 9, 16, 25, 36, 49, 64, 81, 100]\n"
     ]
    }
   ],
   "source": [
    "#list comprehensions\n",
    "\n",
    "squares = [x**2 for x in range(1,11)]\n",
    "print(squares)"
   ]
  },
  {
   "cell_type": "code",
   "execution_count": 23,
   "id": "a0dc7a1b",
   "metadata": {},
   "outputs": [
    {
     "name": "stdout",
     "output_type": "stream",
     "text": [
      "['sam', 'bob']\n"
     ]
    }
   ],
   "source": [
    "#slicing a list\n",
    "\n",
    "finishers = ['sam', 'bob', 'ada', 'bea']\n",
    "first_two = finishers[:2]\n",
    "#last_two = finishers(-1,-2)\n",
    "print(first_two)\n",
    "#print(last_two)"
   ]
  },
  {
   "cell_type": "code",
   "execution_count": 24,
   "id": "3481d711",
   "metadata": {},
   "outputs": [
    {
     "name": "stdout",
     "output_type": "stream",
     "text": [
      "['trek', 'redline', 'giant']\n"
     ]
    }
   ],
   "source": [
    "#copying a list\n",
    "\n",
    "copyofbikes = bikes[:]\n",
    "print (copyofbikes)"
   ]
  },
  {
   "cell_type": "code",
   "execution_count": 25,
   "id": "4fadc3b1",
   "metadata": {},
   "outputs": [],
   "source": [
    "# Tuples are similar to lists, but the items in a tuple cant be modified\n",
    "\n",
    "#contoh making a tuple\n",
    "\n",
    "#dimensions = (1920, 1080)"
   ]
  },
  {
   "cell_type": "code",
   "execution_count": 26,
   "id": "74e51e74",
   "metadata": {},
   "outputs": [],
   "source": [
    "#If Statements is used to test for particular conditions and respond appropiately\n",
    "\n",
    "#conditional tests\n",
    "#equals               x == 42\n",
    "#not equal            x != 42\n",
    "#greater than         x > 42\n",
    "    # or equal to     x >=42\n",
    "#less than            x < 42\n",
    "    # or equal to     x <=42"
   ]
  },
  {
   "cell_type": "code",
   "execution_count": 32,
   "id": "4248f2f2",
   "metadata": {},
   "outputs": [
    {
     "name": "stdout",
     "output_type": "stream",
     "text": [
      "Yes!\n",
      "Nay!\n"
     ]
    }
   ],
   "source": [
    "#Conditional test with lists\n",
    "\n",
    "if \"trek\" in bikes:\n",
    "    print(\"Yes!\")\n",
    "else:\n",
    "    print(\"Nay!\")\n",
    "\n",
    "if \"Yamaha\" in bikes:\n",
    "    print(\"Yes!\")\n",
    "else:\n",
    "    print(\"Nay!\")"
   ]
  },
  {
   "cell_type": "code",
   "execution_count": 33,
   "id": "b056e086",
   "metadata": {},
   "outputs": [],
   "source": [
    "#Assigning Boolean Values\n",
    "\n",
    "game_active=True\n",
    "can_edit=False"
   ]
  },
  {
   "cell_type": "code",
   "execution_count": 44,
   "id": "be5590dd",
   "metadata": {},
   "outputs": [
    {
     "name": "stdout",
     "output_type": "stream",
     "text": [
      "Please wait until you get 18\n"
     ]
    }
   ],
   "source": [
    "age = 13\n",
    "\n",
    "if age >= 18:\n",
    "    print(\"You can vote!\")\n",
    "else:\n",
    "    print(\"Please wait until you get 18\")\n",
    "\n"
   ]
  },
  {
   "cell_type": "code",
   "execution_count": 64,
   "id": "2bd7c437",
   "metadata": {},
   "outputs": [
    {
     "ename": "SyntaxError",
     "evalue": "invalid syntax (<ipython-input-64-32626533c403>, line 10)",
     "output_type": "error",
     "traceback": [
      "\u001b[0;36m  File \u001b[0;32m\"<ipython-input-64-32626533c403>\"\u001b[0;36m, line \u001b[0;32m10\u001b[0m\n\u001b[0;31m    family = {\"ayah\", : 45, \"ibu\" : 43, \"kakak\" : 15, \"aku\" : 10, \"adik\" : 3}\u001b[0m\n\u001b[0m                      ^\u001b[0m\n\u001b[0;31mSyntaxError\u001b[0m\u001b[0;31m:\u001b[0m invalid syntax\n"
     ]
    }
   ],
   "source": [
    "# A Simple If Test\n",
    "\n",
    "if age < 4:\n",
    "    ticket_price = 0\n",
    "elif age < 18:\n",
    "    ticket_price = 10\n",
    "else:\n",
    "    ticket_price = 15\n",
    "\n",
    "#family = {\"ayah\", : 45, \"ibu\" : 43, \"kakak\" : 15, \"aku\" : 10, \"adik\" : 3}\n",
    "#for name, age in famility.items():\n",
    "#    print(name + \" harga tiket \" + str(age))"
   ]
  },
  {
   "cell_type": "markdown",
   "id": "a4adfb50",
   "metadata": {},
   "source": [
    "# Dictionaries"
   ]
  },
  {
   "cell_type": "code",
   "execution_count": 61,
   "id": "f3e78729",
   "metadata": {},
   "outputs": [
    {
     "ename": "SyntaxError",
     "evalue": "invalid syntax (<ipython-input-61-9f53b364aa10>, line 3)",
     "output_type": "error",
     "traceback": [
      "\u001b[0;36m  File \u001b[0;32m\"<ipython-input-61-9f53b364aa10>\"\u001b[0;36m, line \u001b[0;32m3\u001b[0m\n\u001b[0;31m    alien = {\"color\", \"green\", \"points\" : 5}\u001b[0m\n\u001b[0m                                        ^\u001b[0m\n\u001b[0;31mSyntaxError\u001b[0m\u001b[0;31m:\u001b[0m invalid syntax\n"
     ]
    }
   ],
   "source": [
    "# a simple dictionary\n",
    "\n",
    "alien = {\"color\", \"green\", \"points\" : 5}\n",
    "\n",
    "# accessing a value\n",
    "\n",
    "# print(\"the alien's color is\" + alien[\"color\"]) --> gagal\n",
    "\n",
    "# adding a new key-value pair\n",
    "\n",
    "alien['x_position'] = 0\n",
    "\n",
    "print(alien[])"
   ]
  },
  {
   "cell_type": "code",
   "execution_count": 76,
   "id": "0b532c45",
   "metadata": {},
   "outputs": [
    {
     "name": "stdout",
     "output_type": "stream",
     "text": [
      "eric loves 17\n",
      "\n",
      "17 is a favorite number of eric\n",
      "\n",
      "ever loves 4\n",
      "\n",
      "4 is a favorite number of ever\n",
      "\n"
     ]
    }
   ],
   "source": [
    "# Looping through all key-value pairs\n",
    "\n",
    "fav_numbers = {'eric' : 17, 'ever' : 4}\n",
    "for name, number in fav_numbers.items():\n",
    "    print(name + \" loves \" +str(number))\n",
    "    print()\n",
    "    print (str(number) + \" is a favorite number of \" + name)\n",
    "    print()"
   ]
  },
  {
   "cell_type": "code",
   "execution_count": 66,
   "id": "ef86bd99",
   "metadata": {},
   "outputs": [
    {
     "name": "stdout",
     "output_type": "stream",
     "text": [
      "eric loves a number\n",
      "ever loves a number\n"
     ]
    }
   ],
   "source": [
    "# Looping through all keys\n",
    "\n",
    "fav_numbers = {'eric' : 17, 'ever' : 4}\n",
    "for name in fav_numbers.keys():\n",
    "    print(name + \" loves a number\")"
   ]
  },
  {
   "cell_type": "code",
   "execution_count": 69,
   "id": "6d75acf2",
   "metadata": {},
   "outputs": [
    {
     "name": "stdout",
     "output_type": "stream",
     "text": [
      "17 is a favorite \n",
      "4 is a favorite \n"
     ]
    }
   ],
   "source": [
    "# Looping through all the value\n",
    "\n",
    "fav_numbers = {'eric' : 17, 'ever' : 4}\n",
    "for number in fav_numbers.values():\n",
    "    print(str(number) + \" is a favorite \")"
   ]
  },
  {
   "cell_type": "markdown",
   "id": "7522f073",
   "metadata": {},
   "source": [
    "# User Input"
   ]
  },
  {
   "cell_type": "code",
   "execution_count": 78,
   "id": "e2cfc324",
   "metadata": {},
   "outputs": [
    {
     "name": "stdout",
     "output_type": "stream",
     "text": [
      "What's your name? Iskandar\n",
      "Hello, Iskandar!\n"
     ]
    }
   ],
   "source": [
    "# Prompting for a value\n",
    "\n",
    "name = input(\"What's your name? \")\n",
    "print(\"Hello, \" + name + \"!\")"
   ]
  },
  {
   "cell_type": "code",
   "execution_count": 79,
   "id": "0eba3455",
   "metadata": {},
   "outputs": [
    {
     "name": "stdout",
     "output_type": "stream",
     "text": [
      "How old are you? 25\n"
     ]
    }
   ],
   "source": [
    "# Prompting for numerical input\n",
    "\n",
    "age = input(\"How old are you? \")\n",
    "age = int(age)"
   ]
  },
  {
   "cell_type": "code",
   "execution_count": 81,
   "id": "ed91671f",
   "metadata": {},
   "outputs": [
    {
     "name": "stdout",
     "output_type": "stream",
     "text": [
      "what's the value of pi? 3.14\n"
     ]
    }
   ],
   "source": [
    "pi = input(\"what's the value of pi? \")\n",
    "pi = float(pi)"
   ]
  },
  {
   "cell_type": "code",
   "execution_count": null,
   "id": "324fd032",
   "metadata": {},
   "outputs": [],
   "source": []
  }
 ],
 "metadata": {
  "kernelspec": {
   "display_name": "Python 3",
   "language": "python",
   "name": "python3"
  },
  "language_info": {
   "codemirror_mode": {
    "name": "ipython",
    "version": 3
   },
   "file_extension": ".py",
   "mimetype": "text/x-python",
   "name": "python",
   "nbconvert_exporter": "python",
   "pygments_lexer": "ipython3",
   "version": "3.8.8"
  }
 },
 "nbformat": 4,
 "nbformat_minor": 5
}
